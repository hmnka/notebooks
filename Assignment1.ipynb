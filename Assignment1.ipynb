{
 "cells": [
  {
   "cell_type": "markdown",
   "metadata": {},
   "source": [
    "### 1. Write a Python program to input a number from the user and check if it is positive, negative or zero. "
   ]
  },
  {
   "cell_type": "code",
   "execution_count": null,
   "metadata": {},
   "outputs": [],
   "source": [
    "number = int(input(\"Enter a number : \"))\n",
    "if number < 0 :\n",
    "    print (number, \"is Negitive number\")\n",
    "elif number > 0:\n",
    "    print (number, \"is Positive number\")\n",
    "else:\n",
    "    print (number, \"is zero\")"
   ]
  },
  {
   "cell_type": "markdown",
   "metadata": {},
   "source": [
    "### 2. Write a Python Program to Check if a Number is Odd or Even by taking user input. "
   ]
  },
  {
   "cell_type": "code",
   "execution_count": null,
   "metadata": {},
   "outputs": [],
   "source": [
    "number = int(input(\"Enter a number : \"))\n",
    "if number%2==0 :\n",
    "    print (number, \"is Even number\")\n",
    "else :\n",
    "    print (number, \"is Odd number\""
   ]
  },
  {
   "cell_type": "markdown",
   "metadata": {},
   "source": [
    "### 3. Write a Python Program to input a year with century and check if it is Leap Year or print invalid if it is not in the form of year with century"
   ]
  },
  {
   "cell_type": "code",
   "execution_count": null,
   "metadata": {},
   "outputs": [],
   "source": [
    "year = int(input(\"Enter a number : \"))\n",
    " \n",
    "if year % 4 != 0 :\n",
    "    print(\"Not Leap Year\")\n",
    "elif year % 100 != 0:\n",
    "    print(\"Leap Year\")\n",
    "elif year % 400 != 0:\n",
    "    print(\"Not Leap Year\")\n",
    "else:\n",
    "    print(\"Leap Year\")"
   ]
  },
  {
   "cell_type": "markdown",
   "metadata": {},
   "source": [
    "### 4. Write a Python Program to Find the Largest Among Three Numbers, using the least number of lines of code. "
   ]
  },
  {
   "cell_type": "code",
   "execution_count": 2,
   "metadata": {},
   "outputs": [
    {
     "name": "stdout",
     "output_type": "stream",
     "text": [
      "Enter first number:5\n",
      "Enter second number:8\n",
      "Enter third number:1\n",
      "Max number :  8\n"
     ]
    }
   ],
   "source": [
    "a=int(input(\"Enter first number:\"))\n",
    "b=int(input(\"Enter second number:\"))\n",
    "c=int(input(\"Enter third number:\"))\n",
    "\n",
    "maxNum = a\n",
    "if b > maxNum:\n",
    "    maxNum = b\n",
    "if c > maxNum:\n",
    "    maxNum = c\n",
    "print(\"Max number : \", maxNum)\n",
    "\n",
    "# print(max(a,b,c))"
   ]
  },
  {
   "cell_type": "markdown",
   "metadata": {},
   "source": [
    "### 5. Write a Python program to input a month name and print number of days in it. "
   ]
  },
  {
   "cell_type": "code",
   "execution_count": 5,
   "metadata": {},
   "outputs": [
    {
     "name": "stdout",
     "output_type": "stream",
     "text": [
      "Enter the name of a month : february\n",
      "28/29 days in this month\n"
     ]
    }
   ],
   "source": [
    "months={'january':'31','february':'28/29','march':'31','april':'30','may':'31','june':'30','july':'31','august':'31','september':'30','october':'31','november':'30','december':'31'}\n",
    "\n",
    "a=input(\"Enter the name of a month : \")\n",
    "\n",
    "a = a.lower()\n",
    "\n",
    "if a in months.keys():\n",
    "    print(\"{0} days in this month\".format(months[a]))\n",
    "else:\n",
    "    print(\"Month name invalid\")\n"
   ]
  },
  {
   "cell_type": "markdown",
   "metadata": {},
   "source": [
    "### 6. Write a Python Program to Check if a number is Prime Number or not"
   ]
  },
  {
   "cell_type": "code",
   "execution_count": null,
   "metadata": {},
   "outputs": [],
   "source": [
    "minNum = int(input(\"Enter Min Number : \"))\n",
    "maxNum = int(input(\"Enter Max Number : \"))\n",
    "\n",
    "prime = []\n",
    "\n",
    "def isPrime(num):\n",
    "    \n",
    "    if num < 2:\n",
    "        return False\n",
    "    \n",
    "    for i in range (2, num//2):\n",
    "        if num % i == 0:\n",
    "            return False\n",
    "        \n",
    "    return True\n",
    "\n",
    "for number in range(minNum, maxNum):\n",
    "    if isPrime(number):\n",
    "        prime.append(number)\n",
    "\n",
    "print(prime)"
   ]
  },
  {
   "cell_type": "markdown",
   "metadata": {},
   "source": [
    "### 7. Write a Python Program to Find the Factorial of a Number. "
   ]
  },
  {
   "cell_type": "code",
   "execution_count": null,
   "metadata": {},
   "outputs": [],
   "source": [
    "number = int(input(\"Enter a number : \"))\n",
    "\n",
    "def factorial(num):\n",
    "  \n",
    "    fact = 1\n",
    "    for i in range (2, num+1):\n",
    "        fact = fact * i\n",
    "    \n",
    "    return fact\n",
    "\n",
    "print(\"Factorial of\", number, \"is\", factorial(number))\n"
   ]
  },
  {
   "cell_type": "markdown",
   "metadata": {},
   "source": [
    "### 8. Write a Python Program to Display the multiplication Table by taking the number as input.  "
   ]
  },
  {
   "cell_type": "code",
   "execution_count": null,
   "metadata": {},
   "outputs": [],
   "source": [
    "number = int(input(\"Enter a number\"))\n",
    "\n",
    "for i in range(1, 11):\n",
    "    print(number, \"*\", i, \"=\", number*i)"
   ]
  },
  {
   "cell_type": "markdown",
   "metadata": {},
   "source": [
    "### 9. Write a Python Program to Print the Fibonacci sequence. "
   ]
  },
  {
   "cell_type": "code",
   "execution_count": 1,
   "metadata": {},
   "outputs": [
    {
     "name": "stdout",
     "output_type": "stream",
     "text": [
      "Enter a number : 3\n",
      "0\n",
      "1\n",
      "1\n"
     ]
    }
   ],
   "source": [
    "number = int(input(\"Enter a number : \"))\n",
    "\n",
    "def fibonacci(num):\n",
    "    \n",
    "    if num == 1:\n",
    "        return 0\n",
    "    elif num == 2:\n",
    "        return 1\n",
    "    else:\n",
    "        return fibonacci(num-1) + fibonacci(num-2)\n",
    "\n",
    "for i in range (1, number+1):\n",
    "    print(fibonacci(i)) \n",
    "\n"
   ]
  },
  {
   "cell_type": "markdown",
   "metadata": {},
   "source": [
    "### 10. Write a Python Program to Find the Sum of Natural Numbers."
   ]
  },
  {
   "cell_type": "code",
   "execution_count": null,
   "metadata": {},
   "outputs": [],
   "source": [
    "number = int(input(\"Enter a number : \"))\n",
    "\n",
    "sum = 0\n",
    "\n",
    "for i in range (1, number + 1):\n",
    "    sum = sum + i\n",
    "print (sum)"
   ]
  }
 ],
 "metadata": {
  "kernelspec": {
   "display_name": "Python 3",
   "language": "python",
   "name": "python3"
  },
  "language_info": {
   "codemirror_mode": {
    "name": "ipython",
    "version": 3
   },
   "file_extension": ".py",
   "mimetype": "text/x-python",
   "name": "python",
   "nbconvert_exporter": "python",
   "pygments_lexer": "ipython3",
   "version": "3.6.4"
  }
 },
 "nbformat": 4,
 "nbformat_minor": 2
}
